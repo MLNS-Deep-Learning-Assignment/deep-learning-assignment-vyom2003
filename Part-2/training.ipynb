{
 "cells": [
  {
   "cell_type": "code",
   "execution_count": 1,
   "metadata": {},
   "outputs": [],
   "source": [
    "import torch\n",
    "import torch.nn as nn\n",
    "import torchvision.transforms as transforms\n",
    "from matplotlib import pyplot as plt\n",
    "import numpy as np\n",
    "import random\n",
    "import os\n",
    "import cv2\n",
    "import torchvision.models as models\n",
    "from torch.utils.data import DataLoader, Dataset, random_split\n",
    "from tqdm import tqdm\n"
   ]
  },
  {
   "cell_type": "code",
   "execution_count": 2,
   "metadata": {},
   "outputs": [],
   "source": [
    "def set_seed(seed: int):\n",
    "    random.seed(seed)\n",
    "    np.random.seed(seed)\n",
    "    os.environ['PYTHONHASHSEED'] = str(seed)\n",
    "    torch.manual_seed(seed)\n",
    "    torch.cuda.manual_seed(seed)\n",
    "    torch.backends.cudnn.deterministic = True\n",
    "    torch.backends.cudnn.benchmark = False\n",
    "set_seed(42)"
   ]
  },
  {
   "cell_type": "code",
   "execution_count": 3,
   "metadata": {},
   "outputs": [],
   "source": [
    "data1 = np.load('../data/data0.npy')\n",
    "lab1 = np.load('../data/lab0.npy')\n",
    "data2 = np.load('../data/data1.npy')\n",
    "lab2 = np.load('../data/lab1.npy')\n",
    "data3 = np.load('../data/data2.npy')\n",
    "lab3 = np.load('../data/lab2.npy')"
   ]
  },
  {
   "cell_type": "code",
   "execution_count": 4,
   "metadata": {},
   "outputs": [],
   "source": [
    "data_cumulative = np.concat([data1,data2,data3])\n",
    "labels_cumulative = np.concat([lab1,lab2,lab3])\n",
    "labels = torch.tensor(labels_cumulative, dtype=torch.long)"
   ]
  },
  {
   "cell_type": "code",
   "execution_count": 5,
   "metadata": {},
   "outputs": [],
   "source": [
    "def process_images(data_cumulative):\n",
    "    processed_images = []\n",
    "    for img in data_cumulative:\n",
    "        _, binary = cv2.threshold(img, 0, 255, cv2.THRESH_BINARY + cv2.THRESH_OTSU)\n",
    "        kernel = np.ones((2, 1), np.uint8)\n",
    "        binary = cv2.dilate(binary, kernel, iterations=1)\n",
    "        num_labels, labels, stats, centroids = cv2.connectedComponentsWithStats(binary, connectivity=8)\n",
    "        digit_regions = []\n",
    "        min_area = 20        \n",
    "        for i in range(1, num_labels):\n",
    "            x = stats[i, cv2.CC_STAT_LEFT]\n",
    "            y = stats[i, cv2.CC_STAT_TOP]\n",
    "            w = stats[i, cv2.CC_STAT_WIDTH]\n",
    "            h = stats[i, cv2.CC_STAT_HEIGHT]\n",
    "            area = stats[i, cv2.CC_STAT_AREA]\n",
    "            \n",
    "            if area > min_area:\n",
    "                digit_regions.append((x, y, w, h))\n",
    "        digit_regions.sort(key=lambda x: x[0])\n",
    "        digit_images = []\n",
    "        for x, y, w, h in digit_regions:\n",
    "            digit = binary[y:y+h, x:x+w]\n",
    "            digit_with_border = cv2.copyMakeBorder(digit, 10, 10, 10, 10, \n",
    "                                                   cv2.BORDER_CONSTANT, value=0)\n",
    "            resized_digit = cv2.resize(digit_with_border, (28, 28))\n",
    "            digit_images.append(resized_digit)\n",
    "        \n",
    "        if digit_images:\n",
    "            concatenated_image = np.concatenate(digit_images, axis=1)\n",
    "            concatenated_image = cv2.resize(concatenated_image, (224, 224))\n",
    "        else:\n",
    "            concatenated_image = np.zeros((224, 224), dtype=np.uint8)\n",
    "        \n",
    "        image_tensor = torch.tensor(concatenated_image / 255.0, dtype=torch.float32).unsqueeze(0)\n",
    "        processed_images.append(image_tensor)\n",
    "    \n",
    "    return processed_images\n",
    "\n",
    "processed_images = process_images(data_cumulative)"
   ]
  },
  {
   "cell_type": "code",
   "execution_count": 7,
   "metadata": {},
   "outputs": [
    {
     "name": "stderr",
     "output_type": "stream",
     "text": [
      "100%|██████████| 375/375 [01:35<00:00,  3.95it/s]\n"
     ]
    },
    {
     "name": "stdout",
     "output_type": "stream",
     "text": [
      "Epoch 1, Loss: 2.699926289876302\n",
      "Updated Model\n",
      "Test Accuracy: 21.55% , Val Loss: 2.309532880783081\n"
     ]
    },
    {
     "name": "stderr",
     "output_type": "stream",
     "text": [
      "100%|██████████| 375/375 [01:34<00:00,  3.97it/s]\n"
     ]
    },
    {
     "name": "stdout",
     "output_type": "stream",
     "text": [
      "Epoch 2, Loss: 2.0632200838724772\n",
      "Updated Model\n",
      "Test Accuracy: 36.43% , Val Loss: 1.6845471858978271\n"
     ]
    },
    {
     "name": "stderr",
     "output_type": "stream",
     "text": [
      "100%|██████████| 375/375 [01:34<00:00,  3.96it/s]\n"
     ]
    },
    {
     "name": "stdout",
     "output_type": "stream",
     "text": [
      "Epoch 3, Loss: 1.827607559521993\n",
      "Updated Model\n",
      "Test Accuracy: 40.57% , Val Loss: 1.6405837535858154\n"
     ]
    },
    {
     "name": "stderr",
     "output_type": "stream",
     "text": [
      "100%|██████████| 375/375 [01:34<00:00,  3.99it/s]\n"
     ]
    },
    {
     "name": "stdout",
     "output_type": "stream",
     "text": [
      "Epoch 4, Loss: 1.64345521068573\n",
      "Updated Model\n",
      "Test Accuracy: 41.68% , Val Loss: 1.4833636283874512\n"
     ]
    },
    {
     "name": "stderr",
     "output_type": "stream",
     "text": [
      "100%|██████████| 375/375 [01:34<00:00,  3.98it/s]\n"
     ]
    },
    {
     "name": "stdout",
     "output_type": "stream",
     "text": [
      "Epoch 5, Loss: 1.5330441783269246\n",
      "Updated Model\n",
      "Test Accuracy: 45.52% , Val Loss: 1.4376622438430786\n"
     ]
    },
    {
     "name": "stderr",
     "output_type": "stream",
     "text": [
      "100%|██████████| 375/375 [01:34<00:00,  3.99it/s]\n"
     ]
    },
    {
     "name": "stdout",
     "output_type": "stream",
     "text": [
      "Epoch 6, Loss: 1.4119726413091023\n",
      "Updated Model\n",
      "Test Accuracy: 52.10% , Val Loss: 1.2376830577850342\n"
     ]
    },
    {
     "name": "stderr",
     "output_type": "stream",
     "text": [
      "100%|██████████| 375/375 [01:33<00:00,  3.99it/s]\n"
     ]
    },
    {
     "name": "stdout",
     "output_type": "stream",
     "text": [
      "Epoch 7, Loss: 1.3379861838022868\n",
      "Updated Model\n",
      "Test Accuracy: 54.20% , Val Loss: 1.219743013381958\n"
     ]
    },
    {
     "name": "stderr",
     "output_type": "stream",
     "text": [
      "100%|██████████| 375/375 [01:33<00:00,  4.00it/s]\n"
     ]
    },
    {
     "name": "stdout",
     "output_type": "stream",
     "text": [
      "Epoch 8, Loss: 1.2425821431477864\n",
      "Updated Model\n",
      "Test Accuracy: 59.40% , Val Loss: 1.1595616340637207\n"
     ]
    },
    {
     "name": "stderr",
     "output_type": "stream",
     "text": [
      "100%|██████████| 375/375 [01:33<00:00,  4.00it/s]\n"
     ]
    },
    {
     "name": "stdout",
     "output_type": "stream",
     "text": [
      "Epoch 9, Loss: 1.186784375667572\n",
      "Updated Model\n",
      "Test Accuracy: 65.82% , Val Loss: 1.0914885997772217\n"
     ]
    },
    {
     "name": "stderr",
     "output_type": "stream",
     "text": [
      "100%|██████████| 375/375 [01:34<00:00,  3.98it/s]\n"
     ]
    },
    {
     "name": "stdout",
     "output_type": "stream",
     "text": [
      "Epoch 10, Loss: 1.1691450670560202\n",
      "Updated Model\n",
      "Test Accuracy: 66.62% , Val Loss: 1.150016188621521\n"
     ]
    },
    {
     "name": "stderr",
     "output_type": "stream",
     "text": [
      "100%|██████████| 375/375 [01:34<00:00,  3.99it/s]\n"
     ]
    },
    {
     "name": "stdout",
     "output_type": "stream",
     "text": [
      "Epoch 11, Loss: 1.1093458749453227\n",
      "Updated Model\n",
      "Test Accuracy: 72.80% , Val Loss: 0.9832439422607422\n"
     ]
    },
    {
     "name": "stderr",
     "output_type": "stream",
     "text": [
      "100%|██████████| 375/375 [01:33<00:00,  3.99it/s]\n"
     ]
    },
    {
     "name": "stdout",
     "output_type": "stream",
     "text": [
      "Epoch 12, Loss: 1.0595789810816447\n",
      "Test Accuracy: 70.88% , Val Loss: 0.9509578347206116\n"
     ]
    },
    {
     "name": "stderr",
     "output_type": "stream",
     "text": [
      "100%|██████████| 375/375 [01:33<00:00,  3.99it/s]\n"
     ]
    },
    {
     "name": "stdout",
     "output_type": "stream",
     "text": [
      "Epoch 13, Loss: 0.9849948471387228\n",
      "Updated Model\n",
      "Test Accuracy: 76.57% , Val Loss: 0.8591808080673218\n"
     ]
    },
    {
     "name": "stderr",
     "output_type": "stream",
     "text": [
      "100%|██████████| 375/375 [01:33<00:00,  4.00it/s]\n"
     ]
    },
    {
     "name": "stdout",
     "output_type": "stream",
     "text": [
      "Epoch 14, Loss: 0.9437268481254578\n",
      "Test Accuracy: 62.65% , Val Loss: 1.0783056020736694\n"
     ]
    },
    {
     "name": "stderr",
     "output_type": "stream",
     "text": [
      "100%|██████████| 375/375 [01:33<00:00,  4.00it/s]\n"
     ]
    },
    {
     "name": "stdout",
     "output_type": "stream",
     "text": [
      "Epoch 15, Loss: 1.003762158870697\n",
      "Test Accuracy: 71.37% , Val Loss: 0.9242689609527588\n"
     ]
    },
    {
     "name": "stderr",
     "output_type": "stream",
     "text": [
      "100%|██████████| 375/375 [01:33<00:00,  4.00it/s]\n"
     ]
    },
    {
     "name": "stdout",
     "output_type": "stream",
     "text": [
      "Epoch 16, Loss: 0.9425891542434692\n",
      "Updated Model\n",
      "Test Accuracy: 81.70% , Val Loss: 0.7945878505706787\n"
     ]
    },
    {
     "name": "stderr",
     "output_type": "stream",
     "text": [
      "100%|██████████| 375/375 [01:34<00:00,  3.99it/s]\n"
     ]
    },
    {
     "name": "stdout",
     "output_type": "stream",
     "text": [
      "Epoch 17, Loss: 0.9183282248179118\n",
      "Test Accuracy: 67.70% , Val Loss: 1.3820394277572632\n"
     ]
    },
    {
     "name": "stderr",
     "output_type": "stream",
     "text": [
      "100%|██████████| 375/375 [01:36<00:00,  3.89it/s]\n"
     ]
    },
    {
     "name": "stdout",
     "output_type": "stream",
     "text": [
      "Epoch 18, Loss: 0.8384196570714315\n",
      "Test Accuracy: 79.98% , Val Loss: 0.7871925234794617\n"
     ]
    },
    {
     "name": "stderr",
     "output_type": "stream",
     "text": [
      "100%|██████████| 375/375 [01:36<00:00,  3.89it/s]\n"
     ]
    },
    {
     "name": "stdout",
     "output_type": "stream",
     "text": [
      "Epoch 19, Loss: 0.8553248912493387\n",
      "Test Accuracy: 71.97% , Val Loss: 0.8484421968460083\n"
     ]
    },
    {
     "name": "stderr",
     "output_type": "stream",
     "text": [
      "100%|██████████| 375/375 [01:37<00:00,  3.86it/s]\n"
     ]
    },
    {
     "name": "stdout",
     "output_type": "stream",
     "text": [
      "Epoch 20, Loss: 0.7870403564771017\n",
      "Test Accuracy: 71.82% , Val Loss: 0.9267054200172424\n"
     ]
    },
    {
     "name": "stderr",
     "output_type": "stream",
     "text": [
      "100%|██████████| 375/375 [01:35<00:00,  3.91it/s]\n"
     ]
    },
    {
     "name": "stdout",
     "output_type": "stream",
     "text": [
      "Epoch 21, Loss: 0.7281671070257822\n",
      "Updated Model\n",
      "Test Accuracy: 84.13% , Val Loss: 0.7003628015518188\n"
     ]
    },
    {
     "name": "stderr",
     "output_type": "stream",
     "text": [
      "100%|██████████| 375/375 [01:34<00:00,  3.97it/s]\n"
     ]
    },
    {
     "name": "stdout",
     "output_type": "stream",
     "text": [
      "Epoch 22, Loss: 0.7934543880621592\n",
      "Test Accuracy: 79.40% , Val Loss: 0.8635005950927734\n"
     ]
    },
    {
     "name": "stderr",
     "output_type": "stream",
     "text": [
      "100%|██████████| 375/375 [01:35<00:00,  3.94it/s]\n"
     ]
    },
    {
     "name": "stdout",
     "output_type": "stream",
     "text": [
      "Epoch 23, Loss: 0.780283521493276\n",
      "Test Accuracy: 79.18% , Val Loss: 0.8487224578857422\n"
     ]
    },
    {
     "name": "stderr",
     "output_type": "stream",
     "text": [
      "100%|██████████| 375/375 [01:35<00:00,  3.93it/s]\n"
     ]
    },
    {
     "name": "stdout",
     "output_type": "stream",
     "text": [
      "Epoch 24, Loss: 0.7581845517953237\n",
      "Updated Model\n",
      "Test Accuracy: 85.87% , Val Loss: 0.655259370803833\n"
     ]
    },
    {
     "name": "stderr",
     "output_type": "stream",
     "text": [
      "100%|██████████| 375/375 [01:34<00:00,  3.96it/s]\n"
     ]
    },
    {
     "name": "stdout",
     "output_type": "stream",
     "text": [
      "Epoch 25, Loss: 0.6673240535259247\n",
      "Test Accuracy: 83.95% , Val Loss: 0.9084388017654419\n"
     ]
    }
   ],
   "source": [
    "class ResNetForClassification(nn.Module):\n",
    "    def __init__(self, num_classes):\n",
    "        super(ResNetForClassification, self).__init__()\n",
    "        self.resnet = models.resnet18(weights='DEFAULT')\n",
    "        in_features = self.resnet.fc.in_features\n",
    "        self.resnet.fc = nn.Sequential(\n",
    "            nn.Linear(in_features, 128),\n",
    "            nn.ReLU(),\n",
    "            nn.Dropout(0.5),\n",
    "            nn.Linear(128, num_classes)\n",
    "        )\n",
    "\n",
    "    def forward(self, x):\n",
    "        return self.resnet(x)\n",
    "\n",
    "class SumDataset(Dataset):\n",
    "    def __init__(self, images, labels, transform=None):\n",
    "        self.images = images\n",
    "        self.labels = labels\n",
    "        self.transform = transform\n",
    "\n",
    "    def __len__(self):\n",
    "        return len(self.images)\n",
    "\n",
    "    def __getitem__(self, idx):\n",
    "        img = self.images[idx]\n",
    "        label = self.labels[idx]\n",
    "        if self.transform:\n",
    "            img = self.transform(img)\n",
    "        return img, torch.tensor(label, dtype=torch.long)\n",
    "\n",
    "transform = transforms.Compose([\n",
    "    transforms.ToPILImage(),\n",
    "    transforms.Resize((224, 224)),\n",
    "    transforms.Lambda(lambda img: img.convert(\"RGB\")),\n",
    "    transforms.ToTensor(),\n",
    "    transforms.Normalize(mean=[0.485, 0.456, 0.406], std=[0.229, 0.224, 0.225])\n",
    "])\n",
    "\n",
    "images = processed_images \n",
    "labels = labels_cumulative\n",
    "dataset = SumDataset(images, labels, transform=transform)\n",
    "train_size = int(0.8 * len(dataset))\n",
    "test_size = len(dataset) - train_size\n",
    "train_dataset, test_dataset = random_split(dataset, [train_size, test_size])\n",
    "\n",
    "train_loader = DataLoader(train_dataset, batch_size=64, shuffle=True)\n",
    "test_loader = DataLoader(test_dataset, batch_size=64, shuffle=False)\n",
    "\n",
    "num_classes = max(labels_cumulative) + 1\n",
    "device = torch.device(\"cuda\" if torch.cuda.is_available() else \"cpu\")\n",
    "model = ResNetForClassification(num_classes=num_classes).to(device)\n",
    "criterion = nn.CrossEntropyLoss()\n",
    "optimizer = torch.optim.Adam(model.parameters(),  lr=5e-4, weight_decay=1e-4)\n",
    "best_acc = 0\n",
    "for epoch in range(25):\n",
    "    model.train()\n",
    "    epoch_loss = 0\n",
    "    for imgs, labels in tqdm(train_loader):\n",
    "        imgs, labels = imgs.to(device), labels.to(device)\n",
    "        optimizer.zero_grad()\n",
    "        outputs = model(imgs)\n",
    "        loss = criterion(outputs, labels)\n",
    "        loss.backward()\n",
    "        optimizer.step()\n",
    "        epoch_loss += loss.item()\n",
    "\n",
    "    print(f\"Epoch {epoch+1}, Loss: {epoch_loss/len(train_loader)}\")\n",
    "\n",
    "    model.eval()\n",
    "    correct = 0\n",
    "    total = 0\n",
    "    val_loss = 0\n",
    "    with torch.no_grad():\n",
    "        for imgs, labels in test_loader:\n",
    "            imgs, labels = imgs.to(device), labels.to(device)\n",
    "            outputs = model(imgs)\n",
    "            val_loss += criterion(outputs, labels)\n",
    "            _, predicted = torch.max(outputs, 1)\n",
    "            correct += (predicted == labels).sum().item()\n",
    "            total += labels.size(0)\n",
    "    if (100 * correct / total > best_acc):\n",
    "        best_acc = 100 * correct / total\n",
    "        print(\"Updated Model\")\n",
    "        torch.save(model,\"model.pth\")\n",
    "    print(f\"Test Accuracy: {100 * correct / total:.2f}% , Val Loss: {val_loss/len(test_loader)}\")\n"
   ]
  },
  {
   "cell_type": "code",
   "execution_count": 8,
   "metadata": {},
   "outputs": [
    {
     "data": {
      "image/png": "[encoded data removed]",
      "text/plain": [
       "<Figure size 1000x600 with 1 Axes>"
      ]
     },
     "metadata": {},
     "output_type": "display_data"
    }
   ],
   "source": [
    "# Data extracted from the output\n",
    "epochs = list(range(1, 26))\n",
    "train_losses = [\n",
    "    2.699926289876302, 2.0632200838724772, 1.827607559521993, 1.64345521068573, \n",
    "    1.5330441783269246, 1.4119726413091023, 1.3379861838022868, 1.2425821431477864, \n",
    "    1.186784375667572, 1.1691450670560202, 1.1093458749453227, 1.0595789810816447, \n",
    "    0.9849948471387228, 0.9437268481254578, 1.003762158870697, 0.9425891542434692, \n",
    "    0.9183282248179118, 0.8384196570714315, 0.8553248912493387, 0.7870403564771017, \n",
    "    0.7281671070257822, 0.7934543880621592, 0.780283521493276, 0.7581845517953237, \n",
    "    0.6673240535259247\n",
    "]\n",
    "val_losses = [\n",
    "    2.309532880783081, 1.6845471858978271, 1.6405837535858154, 1.4833636283874512, \n",
    "    1.4376622438430786, 1.2376830577850342, 1.219743013381958, 1.1595616340637207, \n",
    "    1.0914885997772217, 1.150016188621521, 0.9832439422607422, 0.9509578347206116, \n",
    "    0.8591808080673218, 1.0783056020736694, 0.9242689609527588, 0.7945878505706787, \n",
    "    1.3820394277572632, 0.7871925234794617, 0.8484421968460083, 0.9267054200172424, \n",
    "    0.7003628015518188, 0.8635005950927734, 0.8487224578857422, 0.655259370803833, \n",
    "    0.9084388017654419\n",
    "]\n",
    "\n",
    "plt.figure(figsize=(10, 6))\n",
    "plt.plot(epochs, train_losses, label='Train Loss', marker='o')\n",
    "plt.plot(epochs, val_losses, label='Validation Loss', marker='s')\n",
    "plt.xlabel('Epochs')\n",
    "plt.ylabel('Loss')\n",
    "plt.title('Train and Validation Loss Over Epochs')\n",
    "plt.legend()\n",
    "plt.grid(True)\n",
    "plt.show()\n"
   ]
  },
  {
   "cell_type": "code",
   "execution_count": null,
   "metadata": {},
   "outputs": [],
   "source": []
  }
 ],
 "metadata": {
  "kernelspec": {
   "display_name": "env",
   "language": "python",
   "name": "python3"
  },
  "language_info": {
   "codemirror_mode": {
    "name": "ipython",
    "version": 3
   },
   "file_extension": ".py",
   "mimetype": "text/x-python",
   "name": "python",
   "nbconvert_exporter": "python",
   "pygments_lexer": "ipython3",
   "version": "3.12.3"
  }
 },
 "nbformat": 4,
 "nbformat_minor": 2
}
