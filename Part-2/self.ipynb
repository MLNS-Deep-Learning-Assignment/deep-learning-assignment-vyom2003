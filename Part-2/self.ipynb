{
 "cells": [
  {
   "cell_type": "code",
   "execution_count": 1,
   "metadata": {},
   "outputs": [],
   "source": [
    "import torch\n",
    "import torch.nn as nn\n",
    "import torchvision\n",
    "import torchvision.transforms as transforms\n",
    "import torch.nn.functional as F\n",
    "from matplotlib import pyplot as plt\n",
    "import numpy as np\n",
    "from torch.utils.data import DataLoader, TensorDataset,random_split\n",
    "import random\n",
    "import os\n",
    "import cv2"
   ]
  },
  {
   "cell_type": "code",
   "execution_count": 2,
   "metadata": {},
   "outputs": [],
   "source": [
    "def set_seed(seed: int):\n",
    "    random.seed(seed)\n",
    "    np.random.seed(seed)\n",
    "    os.environ['PYTHONHASHSEED'] = str(seed)\n",
    "    torch.manual_seed(seed)\n",
    "    torch.cuda.manual_seed(seed)\n",
    "    torch.backends.cudnn.deterministic = True\n",
    "    torch.backends.cudnn.benchmark = False\n",
    "set_seed(42)\n"
   ]
  },
  {
   "cell_type": "code",
   "execution_count": 3,
   "metadata": {},
   "outputs": [
    {
     "name": "stdout",
     "output_type": "stream",
     "text": [
      "Using device: cuda\n"
     ]
    }
   ],
   "source": [
    "device = torch.device('cuda' if torch.cuda.is_available() else 'cpu')\n",
    "print(f\"Using device: {device}\")"
   ]
  },
  {
   "cell_type": "code",
   "execution_count": 4,
   "metadata": {},
   "outputs": [],
   "source": [
    "transform = transforms.Compose([transforms.ToTensor()])\n",
    "train_dataset = torchvision.datasets.MNIST(root='./data', train=True, transform=transform, download=True)\n",
    "test_dataset = torchvision.datasets.MNIST(root='./data', train=False, transform=transform, download=True)"
   ]
  },
  {
   "cell_type": "code",
   "execution_count": 5,
   "metadata": {},
   "outputs": [],
   "source": [
    "from torch.utils.data import random_split\n",
    "total_train_size = len(train_dataset)\n",
    "val_size = int(0.25* total_train_size)\n",
    "train_size = int(0.75*total_train_size)\n",
    "train_dataset,val_dataset = random_split(train_dataset,[train_size,val_size])"
   ]
  },
  {
   "cell_type": "code",
   "execution_count": 6,
   "metadata": {},
   "outputs": [],
   "source": [
    "class CNN(nn.Module):\n",
    "    def __init__(self,kernel_size=3,stride=2,dropout=0.5):\n",
    "        super(CNN,self).__init__()\n",
    "        self.con_layer1=nn.Conv2d(1,16,kernel_size=kernel_size)\n",
    "        self.con_layer2= nn.Conv2d(16,32, kernel_size=kernel_size)\n",
    "        self.maxpool1 = nn.MaxPool2d(kernel_size=2,stride=stride)\n",
    "        self.maxpool2= nn.MaxPool2d(kernel_size=2,stride=stride)\n",
    "        self.dropout = nn.Dropout2d(dropout)\n",
    "        self.size= int((27-kernel_size*(stride+1))/(stride**2) +1)\n",
    "        self.fc = nn.Linear(32*self.size*self.size,10)\n",
    "    def forward(self,X):\n",
    "        X = self.maxpool1(F.relu(self.con_layer1(X)))\n",
    "        X = self.maxpool2(F.relu(self.con_layer2(X)))\n",
    "        X = self.dropout(X)\n",
    "        X = X.reshape(-1,32*(self.size**2))\n",
    "        X = self.fc(X)\n",
    "        return X"
   ]
  },
  {
   "cell_type": "code",
   "execution_count": 7,
   "metadata": {},
   "outputs": [],
   "source": [
    "batch_size=64\n",
    "train_loader=DataLoader(dataset=train_dataset,batch_size=batch_size,shuffle=True)\n",
    "val_loader = DataLoader(dataset=val_dataset,batch_size=batch_size,shuffle=True)"
   ]
  },
  {
   "cell_type": "code",
   "execution_count": 8,
   "metadata": {},
   "outputs": [
    {
     "name": "stderr",
     "output_type": "stream",
     "text": [
      "/tmp/ipykernel_78853/904630755.py:2: FutureWarning: You are using `torch.load` with `weights_only=False` (the current default value), which uses the default pickle module implicitly. It is possible to construct malicious pickle data which will execute arbitrary code during unpickling (See https://github.com/pytorch/pytorch/blob/main/SECURITY.md#untrusted-models for more details). In a future release, the default value for `weights_only` will be flipped to `True`. This limits the functions that could be executed during unpickling. Arbitrary objects will no longer be allowed to be loaded via this mode unless they are explicitly allowlisted by the user via `torch.serialization.add_safe_globals`. We recommend you start setting `weights_only=True` for any use case where you don't have full control of the loaded file. Please open an issue on GitHub for any issues related to this experimental feature.\n",
      "  model = torch.load('model.pth')\n"
     ]
    },
    {
     "name": "stdout",
     "output_type": "stream",
     "text": [
      "Epoch 1/1 - Train Loss: 0.0456, Train Acc: 98.57% - Validation Loss: 0.2049, Validation Acc: 98.06%\n"
     ]
    }
   ],
   "source": [
    "# model = CNN().to(device=device)\n",
    "model = torch.load('model.pth')\n",
    "learn_rate = 0.001\n",
    "loss_func = nn.CrossEntropyLoss()\n",
    "optimiser = torch.optim.Adam(model.parameters(),lr= learn_rate)\n",
    "num_epochs = 1\n",
    "train_losses=[]\n",
    "train_accuracies = []\n",
    "val_losses=[]\n",
    "val_accuracies = []\n",
    "for epoch in range(num_epochs):\n",
    "    loss_epoch=0\n",
    "    total_train=0\n",
    "    correct_train=0\n",
    "    for images,labels in train_loader:\n",
    "        images = images.to(device)\n",
    "        labels = labels.to(device)\n",
    "        output = model(images)\n",
    "        optimiser.zero_grad()\n",
    "        loss = loss_func(output,labels)\n",
    "        loss.backward()\n",
    "        optimiser.step()\n",
    "        loss_epoch += loss.item()\n",
    "        _, predicted = torch.max(output.data, 1)\n",
    "        total_train += len(labels)\n",
    "        correct_train += (predicted==labels).sum().item()\n",
    "    train_loss = loss_epoch/len(train_loader)\n",
    "    train_accuracy = 100*(correct_train/total_train)\n",
    "    train_accuracies.append(train_accuracy)\n",
    "    train_losses.append(train_loss)\n",
    "\n",
    "    with torch.no_grad():\n",
    "        loss_val=0\n",
    "        total_val=0\n",
    "        correct_val=0\n",
    "        for images,labels in val_loader:\n",
    "            images = images.to(device)\n",
    "            labels = labels.to(device)\n",
    "            output = model(images)\n",
    "            loss_epoch += loss_func(output,labels)\n",
    "            \n",
    "            _, predicted = torch.max(output.data, 1)\n",
    "            total_val += len(labels)\n",
    "            correct_val += (predicted==labels).sum().item()\n",
    "            \n",
    "        val_loss = loss_epoch/len(val_loader)\n",
    "        val_accuracy = 100*(correct_val/total_val)\n",
    "        val_accuracies.append(val_accuracy)\n",
    "        val_losses.append(val_loss)\n",
    "    print(f\"Epoch {epoch+1}/{num_epochs} - \"\n",
    "          f\"Train Loss: {train_loss:.4f}, Train Acc: {train_accuracy:.2f}% - \"\n",
    "          f\"Validation Loss: {val_loss:.4f}, Validation Acc: {val_accuracy:.2f}%\")\n",
    "        "
   ]
  },
  {
   "cell_type": "code",
   "execution_count": 9,
   "metadata": {},
   "outputs": [],
   "source": [
    "torch.save(model,\"model.pth\")"
   ]
  },
  {
   "cell_type": "code",
   "execution_count": 10,
   "metadata": {},
   "outputs": [],
   "source": [
    "data1 = np.load('../data/data0.npy')\n",
    "lab1 = np.load('../data/lab0.npy')\n",
    "data2 = np.load('../data/data1.npy')\n",
    "lab2 = np.load('../data/lab1.npy')\n",
    "data3 = np.load('../data/data2.npy')\n",
    "lab3 = np.load('../data/lab2.npy')"
   ]
  },
  {
   "cell_type": "code",
   "execution_count": 11,
   "metadata": {},
   "outputs": [],
   "source": [
    "data_cumulative = np.concat([data1,data2,data3])\n",
    "labels_cumulative = np.concat([lab1,lab2,lab3])\n",
    "labels = torch.tensor(labels_cumulative, dtype=torch.long).to(device)"
   ]
  },
  {
   "cell_type": "code",
   "execution_count": 12,
   "metadata": {},
   "outputs": [],
   "source": [
    "import cv2\n",
    "import numpy as np\n",
    "import torch\n",
    "\n",
    "def process_images(data_cumulative):\n",
    "    processed_images = []\n",
    "    for img in data_cumulative:\n",
    "        _, binary = cv2.threshold(img, 0, 255, cv2.THRESH_BINARY + cv2.THRESH_OTSU)\n",
    "        kernel = np.ones((2,1), np.uint8)\n",
    "        binary = cv2.dilate(binary, kernel, iterations=1)\n",
    "        num_labels, labels, stats, centroids = cv2.connectedComponentsWithStats(binary, connectivity=8)\n",
    "        digit_regions = []\n",
    "        min_area = 20        \n",
    "        for i in range(1, num_labels):\n",
    "            x = stats[i, cv2.CC_STAT_LEFT]\n",
    "            y = stats[i, cv2.CC_STAT_TOP]\n",
    "            w = stats[i, cv2.CC_STAT_WIDTH]\n",
    "            h = stats[i, cv2.CC_STAT_HEIGHT]\n",
    "            area = stats[i, cv2.CC_STAT_AREA]\n",
    "            \n",
    "            if area > min_area:\n",
    "                digit_regions.append((x, y, w, h))\n",
    "        digit_regions.sort(key=lambda x: x[0])\n",
    "        digit_images = []\n",
    "        for x, y, w, h in digit_regions:\n",
    "            digit = binary[y:y+h, x:x+w]\n",
    "            digit_with_border = cv2.copyMakeBorder(digit, 10, 10, 10, 10, \n",
    "                                                 cv2.BORDER_CONSTANT, value=0)\n",
    "            resized_digit = cv2.resize(digit_with_border, (28, 28))\n",
    "            digit_tensor = torch.tensor(resized_digit/255.0, dtype=torch.float32).unsqueeze(0)\n",
    "            digit_images.append(digit_tensor)\n",
    "            \n",
    "        processed_images.append(digit_images)\n",
    "    \n",
    "    return processed_images\n",
    "\n",
    "processed_images = process_images(data_cumulative)"
   ]
  },
  {
   "cell_type": "code",
   "execution_count": 13,
   "metadata": {},
   "outputs": [],
   "source": [
    "model.eval()\n",
    "total = 0\n",
    "correct = 0\n",
    "for idx,images_dig in enumerate(processed_images):\n",
    "    total+=1\n",
    "    dig_sum = 0\n",
    "    for dig in images_dig:\n",
    "        # plt.imshow(dig.squeeze(0).cpu().numpy())\n",
    "        # plt.show()\n",
    "        dig = dig.to(device)\n",
    "        output = model(dig.unsqueeze(0))\n",
    "        # print(torch.argmax(torch.softmax(output[0],dim=0)).item())\n",
    "        dig_sum += torch.argmax(torch.softmax(output[0],dim=0)).item()\n",
    "    # print(dig_sum,end=\" \")\n",
    "    # print(labels[idx].item() )\n",
    "    if labels[idx].item() == dig_sum:\n",
    "        correct+=1\n"
   ]
  },
  {
   "cell_type": "code",
   "execution_count": 14,
   "metadata": {},
   "outputs": [
    {
     "name": "stdout",
     "output_type": "stream",
     "text": [
      "0.5673\n"
     ]
    }
   ],
   "source": [
    "print(correct/total)"
   ]
  },
  {
   "cell_type": "code",
   "execution_count": null,
   "metadata": {},
   "outputs": [],
   "source": []
  }
 ],
 "metadata": {
  "kernelspec": {
   "display_name": "env",
   "language": "python",
   "name": "python3"
  },
  "language_info": {
   "codemirror_mode": {
    "name": "ipython",
    "version": 3
   },
   "file_extension": ".py",
   "mimetype": "text/x-python",
   "name": "python",
   "nbconvert_exporter": "python",
   "pygments_lexer": "ipython3",
   "version": "3.12.3"
  },
  "orig_nbformat": 4
 },
 "nbformat": 4,
 "nbformat_minor": 2
}
